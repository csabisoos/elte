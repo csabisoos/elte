{
 "cells": [
  {
   "cell_type": "markdown",
   "id": "ac62cfd6-fcbb-440b-a14b-c457d66557a9",
   "metadata": {},
   "source": [
    "# Euler-Fermat-tétel"
   ]
  },
  {
   "cell_type": "markdown",
   "id": "0a61fcd7-492a-43be-9feb-4470552ed5c5",
   "metadata": {},
   "source": [
    "Írj programfüggvényt, amely az Euler-féle $\\varphi$ függvény értékét számolja ki! Ellenőrzéshez használható az `euler_phi` parancs."
   ]
  },
  {
   "cell_type": "code",
   "execution_count": null,
   "id": "db4d3624-c039-41af-9684-7172b5f52460",
   "metadata": {},
   "outputs": [],
   "source": [
    "def EulerPhi(m):\n",
    "    i=0\n",
    "    for k in range(m):\n",
    "        if math.gcd(k, m) == 1:\n",
    "            i+=1\n",
    "    return i\n",
    "    \n",
    "for i in range(100):\n",
    "    assert euler_phi(i) == EulerPhi(i)\n",
    "\n",
    "print(\"OK\")"
   ]
  },
  {
   "cell_type": "markdown",
   "id": "a0f554b0-cd20-446b-bbf2-f68401b1adcf",
   "metadata": {},
   "source": [
    "Írj programot, amely egy $n \\in \\mathbb{N}$ esetén megkeresi azt az $m$ legkisebb természetes számot, amelyre $\\varphi(m)=n$, illetve jelzi ha nincs ilyen!\n"
   ]
  },
  {
   "cell_type": "code",
   "execution_count": null,
   "id": "cc59244f-58df-4935-ad30-8e61f146a21b",
   "metadata": {},
   "outputs": [],
   "source": [
    "def findN(n):\n",
    "    for k in range(2, (2*n)^2):\n",
    "        if euler_phi(k) == n:\n",
    "            return k\n",
    "    return None\n",
    "\n",
    "print(\"OK\")"
   ]
  },
  {
   "cell_type": "markdown",
   "id": "d7e6853d-d9b7-442b-ad6e-164c66ad8d3e",
   "metadata": {},
   "source": [
    "Implementáld a `fermat_primality_test` függvényt, ami a kis Fermát-tétel alapján eldönti egy számról, hogy prím-e! A feladat megoldásához 100 véletlenszerű számot használj!"
   ]
  },
  {
   "cell_type": "code",
   "execution_count": 4,
   "id": "9a109990-b878-4426-80e0-207252c6751d",
   "metadata": {},
   "outputs": [
    {
     "name": "stdout",
     "output_type": "stream",
     "text": [
      "OK!\n"
     ]
    }
   ],
   "source": [
    "def fermat_primality_test(p):\n",
    "    for a in range(2, p-1):\n",
    "        if not gcd(a, p) == 1:\n",
    "            return False\n",
    "        mod=pow(a,p-1,p)\n",
    "        if not mod == 1:\n",
    "            return False\n",
    "        return True\n",
    "\n",
    "\n",
    "primes = [97, 293, 487, 809, 983, 1609, 1787, 1987, 2671, 2939, 3169, 3319, 3917, 4229, 4349, 4639, 4663, 5483, 6007, 6691, 7151, 7477, 8291, 8429, 8929]\n",
    "non_primes = [72, 817, 1504, 1912, 1917, 2416, 2661, 2703, 2723, 3147, 3219, 4595, 4678, 5043, 5424, 5935, 6453, 6799, 7578, 7582, 7892, 7931, 8619, 9008, 9189]\n",
    "for n in primes:\n",
    "    assert fermat_primality_test(n), f'{n=}'\n",
    "for n in non_primes:\n",
    "    assert not fermat_primality_test(n), f'{n=}'\n",
    "print('OK!')"
   ]
  },
  {
   "cell_type": "code",
   "execution_count": null,
   "id": "bbc43f9d-3fda-4ece-9cd1-b14a446fabac",
   "metadata": {},
   "outputs": [],
   "source": []
  }
 ],
 "metadata": {
  "kernelspec": {
   "display_name": "SageMath 10.7",
   "language": "sage",
   "name": "sagemath-10.7"
  },
  "language_info": {
   "codemirror_mode": {
    "name": "ipython",
    "version": 3
   },
   "file_extension": ".py",
   "mimetype": "text/x-python",
   "name": "python",
   "nbconvert_exporter": "python",
   "pygments_lexer": "ipython3",
   "version": "3.13.3"
  }
 },
 "nbformat": 4,
 "nbformat_minor": 5
}
