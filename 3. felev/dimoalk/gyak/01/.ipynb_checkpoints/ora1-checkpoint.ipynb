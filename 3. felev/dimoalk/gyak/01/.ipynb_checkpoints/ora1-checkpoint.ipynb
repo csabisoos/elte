{
 "cells": [
  {
   "cell_type": "code",
   "execution_count": 37,
   "id": "90204142-d228-4448-ab59-4cd12c30a3f6",
   "metadata": {},
   "outputs": [
    {
     "name": "stdout",
     "output_type": "stream",
     "text": [
      "Help on Function_cos in module sage.functions.trig object:\n",
      "\n",
      "class Function_cos(sage.symbolic.function.GinacFunction)\n",
      " |  Method resolution order:\n",
      " |      Function_cos\n",
      " |      sage.symbolic.function.GinacFunction\n",
      " |      sage.symbolic.function.BuiltinFunction\n",
      " |      sage.symbolic.function.Function\n",
      " |      sage.structure.sage_object.SageObject\n",
      " |      builtins.object\n",
      " |  \n",
      " |  Methods defined here:\n",
      " |  \n",
      " |  __init__(self)\n",
      " |      The cosine function.\n",
      " |      \n",
      " |      EXAMPLES::\n",
      " |      \n",
      " |          sage: # needs sage.symbolic\n",
      " |          sage: cos(pi)\n",
      " |          -1\n",
      " |          sage: cos(x).subs(x==pi)\n",
      " |          -1\n",
      " |          sage: cos(2).n(100)\n",
      " |          -0.41614683654714238699756822950\n",
      " |          sage: cos(x)._sympy_()                                                      # needs sympy\n",
      " |          cos(x)\n",
      " |      \n",
      " |      We can prevent evaluation using the ``hold`` parameter::\n",
      " |      \n",
      " |          sage: cos(0, hold=True)                                                     # needs sage.symbolic\n",
      " |          cos(0)\n",
      " |      \n",
      " |      To then evaluate again, we currently must use Maxima via\n",
      " |      :meth:`sage.symbolic.expression.Expression.simplify`::\n",
      " |      \n",
      " |          sage: a = cos(0, hold=True); a.simplify()                                   # needs sage.symbolic\n",
      " |          1\n",
      " |      \n",
      " |      If possible, the argument is also reduced modulo the\n",
      " |      period length `2\\pi`, and well-known identities are\n",
      " |      directly evaluated::\n",
      " |      \n",
      " |          sage: # needs sage.symbolic\n",
      " |          sage: k = var('k', domain='integer')\n",
      " |          sage: cos(1 + 2*k*pi)\n",
      " |          cos(1)\n",
      " |          sage: cos(k*pi)\n",
      " |          cos(pi*k)\n",
      " |          sage: cos(pi/3 + 2*k*pi)\n",
      " |          1/2\n",
      " |      \n",
      " |      TESTS::\n",
      " |      \n",
      " |          sage: loads(dumps(cos))\n",
      " |          cos\n",
      " |      \n",
      " |          sage: conjugate(cos(x))                                                     # needs sage.symbolic\n",
      " |          cos(conjugate(x))\n",
      " |          sage: cos(complex(1,1))     # rel tol 1e-15\n",
      " |          (0.8337300251311491-0.9888977057628651j)\n",
      " |      \n",
      " |      Check that :issue:`20752` is fixed::\n",
      " |      \n",
      " |          sage: cos(3*pi + 41/42*pi)                                                  # needs sage.symbolic\n",
      " |          cos(1/42*pi)\n",
      " |          sage: cos(-5*pi + 1/42*pi)                                                  # needs sage.symbolic\n",
      " |          -cos(1/42*pi)\n",
      " |          sage: cos(pi - 1/42*pi)                                                     # needs sage.symbolic\n",
      " |          -cos(1/42*pi)\n",
      " |  \n",
      " |  ----------------------------------------------------------------------\n",
      " |  Data descriptors defined here:\n",
      " |  \n",
      " |  __dict__\n",
      " |      dictionary for instance variables\n",
      " |  \n",
      " |  __weakref__\n",
      " |      list of weak references to the object\n",
      " |  \n",
      " |  ----------------------------------------------------------------------\n",
      " |  Static methods inherited from sage.symbolic.function.GinacFunction:\n",
      " |  \n",
      " |  __new__(*args, **kwargs) class method of sage.symbolic.function.GinacFunction\n",
      " |      Create and return a new object.  See help(type) for accurate signature.\n",
      " |  \n",
      " |  ----------------------------------------------------------------------\n",
      " |  Data and other attributes inherited from sage.symbolic.function.GinacFunction:\n",
      " |  \n",
      " |  __pyx_vtable__ = <capsule object NULL>\n",
      " |  \n",
      " |  ----------------------------------------------------------------------\n",
      " |  Methods inherited from sage.symbolic.function.BuiltinFunction:\n",
      " |  \n",
      " |  __call__(...)\n",
      " |      File: sage/symbolic/function.pyx (starting at line 929)\n",
      " |      \n",
      " |      Evaluate this function on the given arguments and return the result.\n",
      " |      \n",
      " |      EXAMPLES::\n",
      " |      \n",
      " |          sage: exp(5)                                                                # needs sage.symbolic\n",
      " |          e^5\n",
      " |          sage: gamma(15)\n",
      " |          87178291200\n",
      " |      \n",
      " |      Python float, Python complex, mpmath mpf and mpc as well as numpy inputs\n",
      " |      are sent to the relevant ``math``, ``cmath``, ``mpmath`` or ``numpy``\n",
      " |      function::\n",
      " |      \n",
      " |          sage: cos(1.r)\n",
      " |          0.5403023058681398\n",
      " |          sage: assert type(_) is float\n",
      " |          sage: gamma(4.r)\n",
      " |          6.0\n",
      " |          sage: assert type(_) is float\n",
      " |      \n",
      " |          sage: cos(1jr)  # abstol 1e-15\n",
      " |          (1.5430806348152437-0j)\n",
      " |          sage: assert type(_) is complex\n",
      " |      \n",
      " |          sage: # needs mpmath\n",
      " |          sage: import mpmath\n",
      " |          sage: cos(mpmath.mpf('1.321412'))\n",
      " |          mpf('0.24680737898640387')\n",
      " |          sage: cos(mpmath.mpc(1,1))\n",
      " |          mpc(real='0.83373002513114902', imag='-0.98889770576286506')\n",
      " |      \n",
      " |          sage: import numpy                                                          # needs numpy\n",
      " |          sage: if int(numpy.version.short_version[0]) > 1:                           # needs numpy\n",
      " |          ....:     numpy.set_printoptions(legacy=\"1.25\")                             # needs numpy\n",
      " |      \n",
      " |          sage: sin(numpy.int32(0))                                                   # needs numpy\n",
      " |          0.0\n",
      " |          sage: type(_)                                                               # needs numpy\n",
      " |          <class 'numpy.float64'>\n",
      " |      \n",
      " |      TESTS::\n",
      " |      \n",
      " |          sage: from sage.symbolic.function import BuiltinFunction\n",
      " |          sage: class A:\n",
      " |          ....:     def foo(self):\n",
      " |          ....:         return 'foo'\n",
      " |          sage: foo = BuiltinFunction(name='foo')\n",
      " |          sage: foo(A())\n",
      " |          'foo'\n",
      " |          sage: bar = BuiltinFunction(name='bar', alt_name='foo')\n",
      " |          sage: bar(A())\n",
      " |          'foo'\n",
      " |  \n",
      " |  __reduce__(...)\n",
      " |      BuiltinFunction.__reduce__(self)\n",
      " |      File: sage/symbolic/function.pyx (starting at line 1140)\n",
      " |      \n",
      " |              EXAMPLES::\n",
      " |      \n",
      " |                  sage: cot.__reduce__()\n",
      " |                  (<class 'sage.functions.trig.Function_cot'>, ())\n",
      " |      \n",
      " |                  sage: f = loads(dumps(cot)) #indirect doctest\n",
      " |                  sage: f(pi/2)                                                               # needs sage.symbolic\n",
      " |                  0\n",
      " |  \n",
      " |  __setstate__(...)\n",
      " |      BuiltinFunction.__setstate__(self, state)\n",
      " |      File: sage/symbolic/function.pyx (starting at line 1154)\n",
      " |      \n",
      " |              EXAMPLES::\n",
      " |      \n",
      " |                  sage: cot.__setstate__([1,0])\n",
      " |                  Traceback (most recent call last):\n",
      " |                  ...\n",
      " |                  ValueError: cannot read pickle\n",
      " |                  sage: cot.__setstate__([0]) #don't try this at home\n",
      " |  \n",
      " |  ----------------------------------------------------------------------\n",
      " |  Methods inherited from sage.symbolic.function.Function:\n",
      " |  \n",
      " |  __eq__(self, value, /)\n",
      " |      Return self==value.\n",
      " |  \n",
      " |  __ge__(self, value, /)\n",
      " |      Return self>=value.\n",
      " |  \n",
      " |  __gt__(self, value, /)\n",
      " |      Return self>value.\n",
      " |  \n",
      " |  __hash__(...)\n",
      " |      File: sage/symbolic/function.pyx (starting at line 346)\n",
      " |      \n",
      " |      EXAMPLES::\n",
      " |      \n",
      " |          sage: f = function('f', nargs=1, conjugate_func=lambda self, x: 2r*x)       # needs sage.symbolic\n",
      " |          sage: f.__hash__()    # random                                              # needs sage.symbolic\n",
      " |          -2224334885124003860\n",
      " |          sage: hash(f(2))      # random                                              # needs sage.symbolic\n",
      " |          4168614485\n",
      " |  \n",
      " |  __le__(self, value, /)\n",
      " |      Return self<=value.\n",
      " |  \n",
      " |  __lt__(self, value, /)\n",
      " |      Return self<value.\n",
      " |  \n",
      " |  __ne__(self, value, /)\n",
      " |      Return self!=value.\n",
      " |  \n",
      " |  __repr__(...)\n",
      " |      File: sage/symbolic/function.pyx (starting at line 358)\n",
      " |      \n",
      " |      EXAMPLES::\n",
      " |      \n",
      " |          sage: foo = function(\"foo\", nargs=2); foo                                   # needs sage.symbolic\n",
      " |          foo\n",
      " |  \n",
      " |  default_variable(...)\n",
      " |      Function.default_variable(self)\n",
      " |      File: sage/symbolic/function.pyx (starting at line 597)\n",
      " |      \n",
      " |              Return a default variable.\n",
      " |      \n",
      " |              EXAMPLES::\n",
      " |      \n",
      " |                  sage: sin.default_variable()                                                # needs sage.symbolic\n",
      " |                  x\n",
      " |  \n",
      " |  name(...)\n",
      " |      Function.name(self)\n",
      " |      File: sage/symbolic/function.pyx (starting at line 555)\n",
      " |      \n",
      " |              Return the name of this function.\n",
      " |      \n",
      " |              EXAMPLES::\n",
      " |      \n",
      " |                  sage: foo = function(\"foo\", nargs=2)                                        # needs sage.symbolic\n",
      " |                  sage: foo.name()                                                            # needs sage.symbolic\n",
      " |                  'foo'\n",
      " |  \n",
      " |  number_of_arguments(...)\n",
      " |      Function.number_of_arguments(self)\n",
      " |      File: sage/symbolic/function.pyx (starting at line 567)\n",
      " |      \n",
      " |              Return the number of arguments that this function takes.\n",
      " |      \n",
      " |              EXAMPLES::\n",
      " |      \n",
      " |                  sage: # needs sage.symbolic\n",
      " |                  sage: foo = function(\"foo\", nargs=2)\n",
      " |                  sage: foo.number_of_arguments()\n",
      " |                  2\n",
      " |                  sage: foo(x, x)\n",
      " |                  foo(x, x)\n",
      " |                  sage: foo(x)\n",
      " |                  Traceback (most recent call last):\n",
      " |                  ...\n",
      " |                  TypeError: Symbolic function foo takes exactly 2 arguments (1 given)\n",
      " |  \n",
      " |  variables(...)\n",
      " |      Function.variables(self)\n",
      " |      File: sage/symbolic/function.pyx (starting at line 586)\n",
      " |      \n",
      " |              Return the variables (of which there are none) present in this function.\n",
      " |      \n",
      " |              EXAMPLES::\n",
      " |      \n",
      " |                  sage: sin.variables()\n",
      " |                  ()\n",
      " |  \n",
      " |  ----------------------------------------------------------------------\n",
      " |  Methods inherited from sage.structure.sage_object.SageObject:\n",
      " |  \n",
      " |  __pari__(...)\n",
      " |      SageObject.__pari__(self)\n",
      " |      File: sage/structure/sage_object.pyx (starting at line 969)\n",
      " |  \n",
      " |  category(...)\n",
      " |      SageObject.category(self)\n",
      " |      File: sage/structure/sage_object.pyx (starting at line 514)\n",
      " |  \n",
      " |  dump(...)\n",
      " |      SageObject.dump(self, filename, compress=True)\n",
      " |      File: sage/structure/sage_object.pyx (starting at line 475)\n",
      " |      \n",
      " |              Same as self.save(filename, compress)\n",
      " |  \n",
      " |  dumps(...)\n",
      " |      SageObject.dumps(self, compress=True)\n",
      " |      File: sage/structure/sage_object.pyx (starting at line 481)\n",
      " |      \n",
      " |              Dump ``self`` to a string ``s``, which can later be reconstituted\n",
      " |              as ``self`` using ``loads(s)``.\n",
      " |      \n",
      " |              There is an optional boolean argument ``compress`` which defaults to ``True``.\n",
      " |      \n",
      " |              EXAMPLES::\n",
      " |      \n",
      " |                  sage: from sage.misc.persist import comp\n",
      " |                  sage: O = SageObject()\n",
      " |                  sage: p_comp = O.dumps()\n",
      " |                  sage: p_uncomp = O.dumps(compress=False)\n",
      " |                  sage: comp.decompress(p_comp) == p_uncomp\n",
      " |                  True\n",
      " |                  sage: import pickletools\n",
      " |                  sage: pickletools.dis(p_uncomp)\n",
      " |                      0: \\x80 PROTO      2\n",
      " |                      2: c    GLOBAL     'sage.structure.sage_object SageObject'\n",
      " |                     41: q    BINPUT     ...\n",
      " |                     43: )    EMPTY_TUPLE\n",
      " |                     44: \\x81 NEWOBJ\n",
      " |                     45: q    BINPUT     ...\n",
      " |                     47: .    STOP\n",
      " |                  highest protocol among opcodes = 2\n",
      " |  \n",
      " |  get_custom_name(...)\n",
      " |      SageObject.get_custom_name(self)\n",
      " |      File: sage/structure/sage_object.pyx (starting at line 150)\n",
      " |      \n",
      " |              Return the custom name of this object, or ``None`` if it is not\n",
      " |              renamed.\n",
      " |      \n",
      " |              EXAMPLES::\n",
      " |      \n",
      " |                  sage: P.<x> = QQ[]\n",
      " |                  sage: P.get_custom_name() is None\n",
      " |                  True\n",
      " |                  sage: P.rename('A polynomial ring')\n",
      " |                  sage: P.get_custom_name()\n",
      " |                  'A polynomial ring'\n",
      " |                  sage: P.reset_name()\n",
      " |                  sage: P.get_custom_name() is None\n",
      " |                  True\n",
      " |  \n",
      " |  parent(...)\n",
      " |      SageObject.parent(self)\n",
      " |      File: sage/structure/sage_object.pyx (starting at line 549)\n",
      " |      \n",
      " |              Return the type of ``self`` to support the coercion framework.\n",
      " |      \n",
      " |              EXAMPLES::\n",
      " |      \n",
      " |                  sage: t = log(sqrt(2) - 1) + log(sqrt(2) + 1); t                            # needs sage.symbolic\n",
      " |                  log(sqrt(2) + 1) + log(sqrt(2) - 1)\n",
      " |                  sage: u = t.maxima_methods()                                                # needs sage.symbolic\n",
      " |                  sage: u.parent()                                                            # needs sage.symbolic\n",
      " |                  <class 'sage.symbolic.maxima_wrapper.MaximaWrapper'>\n",
      " |  \n",
      " |  rename(...)\n",
      " |      SageObject.rename(self, x=None)\n",
      " |      File: sage/structure/sage_object.pyx (starting at line 68)\n",
      " |      \n",
      " |              Change ``self`` so it prints as x, where x is a string.\n",
      " |      \n",
      " |              If x is ``None``, the existing custom name is removed.\n",
      " |      \n",
      " |              .. NOTE::\n",
      " |      \n",
      " |                 This is *only* supported for Python classes that derive\n",
      " |                 from SageObject.\n",
      " |      \n",
      " |              EXAMPLES::\n",
      " |      \n",
      " |                  sage: x = PolynomialRing(QQ, 'x', sparse=True).gen()\n",
      " |                  sage: g = x^3 + x - 5\n",
      " |                  sage: g\n",
      " |                  x^3 + x - 5\n",
      " |                  sage: g.rename('a polynomial')\n",
      " |                  sage: g\n",
      " |                  a polynomial\n",
      " |                  sage: g + x\n",
      " |                  x^3 + 2*x - 5\n",
      " |                  sage: h = g^100\n",
      " |                  sage: str(h)[:20]\n",
      " |                  'x^300 + 100*x^298 - '\n",
      " |                  sage: h.rename('x^300 + ...')\n",
      " |                  sage: h\n",
      " |                  x^300 + ...\n",
      " |                  sage: g.rename(None)\n",
      " |                  sage: g\n",
      " |                  x^3 + x - 5\n",
      " |      \n",
      " |              Real numbers are not Python classes, so rename is not supported::\n",
      " |      \n",
      " |                  sage: a = 3.14\n",
      " |                  sage: type(a)                                                               # needs sage.rings.real_mpfr\n",
      " |                  <... 'sage.rings.real_mpfr.RealLiteral'>\n",
      " |                  sage: a.rename('pi')                                                        # needs sage.rings.real_mpfr\n",
      " |                  Traceback (most recent call last):\n",
      " |                  ...\n",
      " |                  NotImplementedError: object does not support renaming: 3.14000000000000\n",
      " |      \n",
      " |              .. NOTE::\n",
      " |      \n",
      " |                 The reason C-extension types are not supported by default\n",
      " |                 is if they were then every single one would have to carry\n",
      " |                 around an extra attribute, which would be slower and waste\n",
      " |                 a lot of memory.\n",
      " |      \n",
      " |                 To support them for a specific class, add a\n",
      " |                 ``cdef public _SageObject__custom_name`` attribute.\n",
      " |  \n",
      " |  reset_name(...)\n",
      " |      SageObject.reset_name(self)\n",
      " |      File: sage/structure/sage_object.pyx (starting at line 131)\n",
      " |      \n",
      " |              Remove the custom name of an object.\n",
      " |      \n",
      " |              EXAMPLES::\n",
      " |      \n",
      " |                  sage: P.<x> = QQ[]\n",
      " |                  sage: P\n",
      " |                  Univariate Polynomial Ring in x over Rational Field\n",
      " |                  sage: P.rename('A polynomial ring')\n",
      " |                  sage: P\n",
      " |                  A polynomial ring\n",
      " |                  sage: P.reset_name()\n",
      " |                  sage: P\n",
      " |                  Univariate Polynomial Ring in x over Rational Field\n",
      " |  \n",
      " |  save(...)\n",
      " |      SageObject.save(self, filename=None, compress=True)\n",
      " |      File: sage/structure/sage_object.pyx (starting at line 446)\n",
      " |      \n",
      " |              Save ``self`` to the given filename.\n",
      " |      \n",
      " |              EXAMPLES::\n",
      " |      \n",
      " |                  sage: # needs sage.symbolic\n",
      " |                  sage: x = SR.var(\"x\")\n",
      " |                  sage: f = x^3 + 5\n",
      " |                  sage: from tempfile import NamedTemporaryFile\n",
      " |                  sage: with NamedTemporaryFile(suffix='.sobj') as t:\n",
      " |                  ....:     f.save(t.name)\n",
      " |                  ....:     load(t.name)\n",
      " |                  x^3 + 5\n",
      "\n"
     ]
    }
   ],
   "source": [
    "# kedd 8:30- kezdés\n",
    "# Használjuk a help-et\n",
    "help(cos)"
   ]
  },
  {
   "cell_type": "code",
   "execution_count": 2,
   "id": "ecf5d347-50b2-4236-a389-0c5a0b5078db",
   "metadata": {},
   "outputs": [
    {
     "data": {
      "text/plain": [
       "False"
      ]
     },
     "execution_count": 2,
     "metadata": {},
     "output_type": "execute_result"
    }
   ],
   "source": [
    "aAaA = 7\n",
    "AaAa = 8\n",
    "aAaA == AaAa"
   ]
  },
  {
   "cell_type": "code",
   "execution_count": 40,
   "id": "3343ebc9-ba48-4214-8f6a-c549a9259aa0",
   "metadata": {},
   "outputs": [
    {
     "data": {
      "image/png": "[encoded data removed]",
      "text/plain": [
       "Graphics object consisting of 1 graphics primitive"
      ]
     },
     "execution_count": 40,
     "metadata": {},
     "output_type": "execute_result"
    }
   ],
   "source": [
    "# x mint változó, nem kell külön definiálni\n",
    "x\n",
    "# y-t már kell \n",
    "var('y')\n",
    "x = 2\n",
    "reset('x')\n",
    "plot(x^2)"
   ]
  },
  {
   "cell_type": "code",
   "execution_count": 45,
   "id": "edbb6a08-1599-442c-86cd-1f14f9fb7fe4",
   "metadata": {},
   "outputs": [
    {
     "data": {
      "text/plain": [
       "6.2831853071795864769252867666"
      ]
     },
     "execution_count": 45,
     "metadata": {},
     "output_type": "execute_result"
    }
   ],
   "source": [
    "n(pi*2, 100)"
   ]
  },
  {
   "cell_type": "code",
   "execution_count": 49,
   "id": "62326127-4a2d-4bab-9334-4c1b88ee990d",
   "metadata": {},
   "outputs": [
    {
     "data": {
      "text/plain": [
       "-1"
      ]
     },
     "execution_count": 49,
     "metadata": {},
     "output_type": "execute_result"
    }
   ],
   "source": [
    "I^2\n",
    "I = 3\n",
    "reset('I')\n",
    "I^2\n"
   ]
  },
  {
   "cell_type": "code",
   "execution_count": null,
   "id": "cbec3f87-b2f4-4a59-8793-4a1993cc2022",
   "metadata": {},
   "outputs": [],
   "source": [
    "# Elágazás\n",
    "a = 1\n",
    "if 0 < a < 10:\n",
    "    print(\"Számjegy\")\n",
    "elif a < 0:\n",
    "    print(\"Negatív szám\")\n",
    "else:\n",
    "    print(\"10-nél nagyobb szám\")\n"
   ]
  },
  {
   "cell_type": "code",
   "execution_count": 6,
   "id": "33a092b5-3ab8-43b4-9191-c539c1c38ee5",
   "metadata": {},
   "outputs": [
    {
     "data": {
      "text/plain": [
       "(1, 2, 'a')"
      ]
     },
     "execution_count": 6,
     "metadata": {},
     "output_type": "execute_result"
    }
   ],
   "source": [
    "# Listák\n",
    "L = [1,2,\"a\"]\n",
    "type(L)\n",
    "L[0], L[1], L[-1] # L[3]"
   ]
  },
  {
   "cell_type": "code",
   "execution_count": 4,
   "id": "27ca009b-b10a-41b4-b349-50e62358087b",
   "metadata": {},
   "outputs": [
    {
     "data": {
      "text/plain": [
       "[1, 2, 3, 4, 5, 6, 7, 8, 9, 10]"
      ]
     },
     "execution_count": 4,
     "metadata": {},
     "output_type": "execute_result"
    }
   ],
   "source": [
    "[1..10]"
   ]
  },
  {
   "cell_type": "code",
   "execution_count": 52,
   "id": "de8add6f-3ab8-460a-b7aa-e7209cc59f6f",
   "metadata": {},
   "outputs": [
    {
     "data": {
      "text/plain": [
       "[1, 8, 27, 64, 125, 216, 343, 512, 729]"
      ]
     },
     "execution_count": 52,
     "metadata": {},
     "output_type": "execute_result"
    }
   ],
   "source": [
    "[i^3 for i in range(1,10)]"
   ]
  },
  {
   "cell_type": "code",
   "execution_count": 55,
   "id": "dc6cdd7f-0068-4e99-ad57-83ffd59aac52",
   "metadata": {},
   "outputs": [
    {
     "name": "stdout",
     "output_type": "stream",
     "text": [
      "False\n",
      "True\n",
      "True\n",
      "False\n",
      "True\n",
      "False\n",
      "True\n",
      "False\n",
      "False\n",
      "False\n"
     ]
    }
   ],
   "source": [
    "L = [1..10]\n",
    "for i in (map(is_prime, L)):\n",
    "    print(i)"
   ]
  },
  {
   "cell_type": "code",
   "execution_count": 56,
   "id": "e46b2d05-6a9c-450a-ac04-96767ac3d2a5",
   "metadata": {},
   "outputs": [
    {
     "data": {
      "text/plain": [
       "[(1, 10), (2, 20), (3, 30)]"
      ]
     },
     "execution_count": 56,
     "metadata": {},
     "output_type": "execute_result"
    }
   ],
   "source": [
    "list(zip([1, 2, 3], [10, 20, 30]))"
   ]
  },
  {
   "cell_type": "code",
   "execution_count": 1,
   "id": "2d75d83b-94a7-4238-8589-70eeb101880e",
   "metadata": {},
   "outputs": [
    {
     "data": {
      "text/plain": [
       "[11, 31, 41, 61, 71]"
      ]
     },
     "execution_count": 1,
     "metadata": {},
     "output_type": "execute_result"
    }
   ],
   "source": [
    "# A feltételek kombinálhatóak az 'and', 'or' és 'not' segítségével.\n",
    "L = [i for i in range(1, 100) if is_prime(i) and i%5 == 1]\n",
    "L"
   ]
  },
  {
   "cell_type": "code",
   "execution_count": 58,
   "id": "d50c8fcb-6f95-43e7-947e-6298bde766e7",
   "metadata": {},
   "outputs": [
    {
     "data": {
      "text/plain": [
       "[[12, 13], [100, 101], [117627, 117628]]"
      ]
     },
     "execution_count": 58,
     "metadata": {},
     "output_type": "execute_result"
    }
   ],
   "source": [
    "# Összetett listák\n",
    "L = [ [i, i+1] for i in [12, 100, 117627] ]\n",
    "L"
   ]
  },
  {
   "cell_type": "code",
   "execution_count": 8,
   "id": "6f83eadb-c9e0-49a5-a947-a33e850aab53",
   "metadata": {},
   "outputs": [
    {
     "name": "stdout",
     "output_type": "stream",
     "text": [
      "2 prim\n",
      "3 prim\n",
      "4 összetett\n",
      "5 prim\n",
      "7 prim\n",
      "8 összetett\n",
      "9 összetett\n"
     ]
    }
   ],
   "source": [
    "# For ciklus\n",
    "for x in [2,3,4,5,7,8,9]:\n",
    "    if is_prime(x):\n",
    "        print(x, \"prim\")\n",
    "    else:\n",
    "        print(x, \"összetett\")"
   ]
  },
  {
   "cell_type": "code",
   "execution_count": 10,
   "id": "0b33017a-033e-4b5a-9c09-65bcec38f2de",
   "metadata": {},
   "outputs": [
    {
     "name": "stdout",
     "output_type": "stream",
     "text": [
      "6\n"
     ]
    }
   ],
   "source": [
    "# while ciklus\n",
    "a = 101\n",
    "while a > 10:\n",
    "    if a % 2 == 0:\n",
    "        a = a// 2\n",
    "    else:\n",
    "        a = a-1\n",
    "print(a)"
   ]
  },
  {
   "cell_type": "markdown",
   "id": "5c40e7c1-aa8c-43be-ac7c-5107743d182e",
   "metadata": {},
   "source": [
    "1. Feladat: Mit csinál a következő kód? "
   ]
  },
  {
   "cell_type": "code",
   "execution_count": 60,
   "id": "dc1a6766-4f03-4a4c-bb22-0483887b317b",
   "metadata": {},
   "outputs": [
    {
     "name": "stdout",
     "output_type": "stream",
     "text": [
      "The input is -12 and 210.\n",
      "The efficiently calculated result is 6.\n",
      "But what I have just calculated?\n"
     ]
    },
    {
     "data": {
      "text/plain": [
       "6"
      ]
     },
     "execution_count": 60,
     "metadata": {},
     "output_type": "execute_result"
    }
   ],
   "source": [
    "a, b, c = -12, 210, 1   # neither a nor b should be 0\n",
    "print(\"The input is %d and %d.\" % (a,b))\n",
    "a, b = abs(a), abs(b)\n",
    "while not (a & 1 or b & 1):\n",
    "    a, b, c = a >> 1, b >> 1, c << 1\n",
    "while not a & 1:\n",
    "    a = a >> 1\n",
    "while 1: # a very bad practice (just for showing off break)\n",
    "    if b == 0:\n",
    "        break\n",
    "    while not b & 1:\n",
    "        b = b >> 1\n",
    "    (a, b) = (a, b-a) if b > a else (b, a-b)\n",
    "c *= a\n",
    "print(\"The efficiently calculated result is %d.\" % c)\n",
    "print(\"But what I have just calculated?\")\n",
    "gcd(12, 210)"
   ]
  },
  {
   "cell_type": "markdown",
   "id": "ace20b2d-5269-4c4a-ad92-854c73b72652",
   "metadata": {},
   "source": [
    "2. Feladat: Számold meg hány olyan egész szám van a [0,n] intervallumban,\n",
    "    melyek nem oszthatók sem 2-vel, sem 3-mal, sem 5-tel. Ismételd ezt meg n=1000-re és n=10000-re is."
   ]
  },
  {
   "cell_type": "code",
   "execution_count": 20,
   "id": "45591508-f4d7-42f4-b8a4-48b21c5e27ed",
   "metadata": {},
   "outputs": [
    {
     "name": "stdout",
     "output_type": "stream",
     "text": [
      "266\n"
     ]
    }
   ],
   "source": [
    "x = 0\n",
    "n=1000\n",
    "for i in [1..n]:\n",
    "    if (not (not (i & 1) or (i % 3 == 0) or (i % 5 == 0))):\n",
    "        x += 1\n",
    "\n",
    "print(x)"
   ]
  },
  {
   "cell_type": "code",
   "execution_count": 10,
   "id": "2be78974-298b-48d8-b070-c2b4150ae3df",
   "metadata": {},
   "outputs": [
    {
     "name": "stdout",
     "output_type": "stream",
     "text": [
      "1, 2, 3, 4\n",
      "1, 2, 3, 5\n",
      "1, 2, 2, 4\n"
     ]
    }
   ],
   "source": [
    "# Eljárás \n",
    "def func(p1, p2, p3=3, p4=4):\n",
    "    print(str(p1) + \", \" + str(p2) + \", \" + str(p3) + \", \" + str(p4))\n",
    "func(1, 2,    3,    4)\n",
    "func(1, 2, p4=5)\n",
    "func(1, 2, p4=4, p3=2)\n",
    "#func(1, p4=4, 3, p2=2) # should throw an error"
   ]
  },
  {
   "cell_type": "code",
   "execution_count": null,
   "id": "b3c57b3a-1036-4d4d-9a7e-1c8e9fa7bdae",
   "metadata": {},
   "outputs": [],
   "source": [
    "# Halmazok # set vs Set vs {}\n",
    "X = Set([1, 2, 3])\n",
    "X"
   ]
  },
  {
   "cell_type": "code",
   "execution_count": null,
   "id": "f022e9f0-c235-4091-9c08-da85f7d061ee",
   "metadata": {},
   "outputs": [],
   "source": [
    "# A halmazok halmazokat is tartalmazhatnak\n",
    "Y = Set([ X, 1, Set([]) ])\n",
    "Y"
   ]
  },
  {
   "cell_type": "code",
   "execution_count": null,
   "id": "9c67db37-3585-419b-bb1d-3f3cd2d6ff28",
   "metadata": {},
   "outputs": [],
   "source": [
    "X.intersection(Y)"
   ]
  },
  {
   "cell_type": "code",
   "execution_count": null,
   "id": "5df64001-5c22-4e66-b4ca-addeee62060d",
   "metadata": {},
   "outputs": [],
   "source": [
    "# Szótárak\n",
    "# Kulcs-érték párok tárolására szolgáló adatszerkezet.\n",
    "d = {1: 17, \"apple\": \"jobs\", Set([1, 2]): 8, (1, 3, 8): -2+I}\n",
    "d[1], d[\"apple\"], d[1, 3, 8]\n",
    "2 in d\n",
    "d.keys, d.elements ???????"
   ]
  },
  {
   "cell_type": "markdown",
   "id": "ab504964-deaf-43a7-ba8d-da5d44033190",
   "metadata": {},
   "source": [
    "Gráfok"
   ]
  },
  {
   "cell_type": "code",
   "execution_count": null,
   "id": "5e20e9ee-de30-4c63-98db-06cffa2a52e0",
   "metadata": {},
   "outputs": [],
   "source": [
    "# Első módszer: szótár használata\n",
    "d = dict() # vagy d = {}\n",
    "print(d)\n",
    "d = {0: [1, 2, 6], 1: [1, 2, 5], 2: [0, 1, 3, 5], 3: [2, 5], 5: [1, 2, 3]} # kulcs: csúcsok; érték: a csúcsba futó élek listája\n",
    "print(d)\n",
    "G = Graph(d) # egyszerű összetett gráf létrehozása\n",
    "G.show() # gráf ábrázolása"
   ]
  },
  {
   "cell_type": "code",
   "execution_count": null,
   "id": "766be888-ee3d-4fda-be77-d382a1a60458",
   "metadata": {},
   "outputs": [],
   "source": [
    "f = {'a': ['b', 'c'], 'b': ['c'], 'c': []} # tetszőleges nevű csúcsok; egy bizonyos élt elég egy csúcsnál szerepeltetni\n",
    "print(f)\n",
    "H = Graph(f)\n",
    "H.show()"
   ]
  },
  {
   "cell_type": "code",
   "execution_count": null,
   "id": "f19762a0-5dbf-4322-b5ca-d4156b4ec0a6",
   "metadata": {},
   "outputs": [],
   "source": []
  },
  {
   "cell_type": "code",
   "execution_count": null,
   "id": "f89e126a-fbbf-4959-929c-612716b74bac",
   "metadata": {},
   "outputs": [
    {
     "data": {
      "image/png": "[encoded data removed]",
      "text/plain": [
       "Graphics object consisting of 7 graphics primitives"
      ]
     },
     "metadata": {},
     "output_type": "display_data"
    }
   ],
   "source": [
    "# Második módszer: csúcs, él listák\n",
    "V = [1,2,3,4]\n",
    "E = [(1,2), (3,4)]\n",
    "G = Graph([V, E])\n",
    "G.show()"
   ]
  },
  {
   "cell_type": "code",
   "execution_count": null,
   "id": "a3d90581-6136-4efb-9123-1117c3125eab",
   "metadata": {},
   "outputs": [],
   "source": [
    "#Harmadik módszer: metódusok\n",
    "T = Graph(multiedges = True) # vagy graphs.EmptyGraph()\n",
    "T.add_edge(0,1)\n",
    "T.add_vertex(2)\n",
    "T.add_vertices([7,8])\n",
    "T.add_edges([(2,1),(7,2),(8,1)])\n",
    "T.set_edge_label(2,1,2)\n",
    "T.show(edge_labels = True)\n",
    "T.delete_edge((2,1)) # delete_edges([...])\n",
    "T.delete_vertex(0) # delete_vertices([...])\n",
    "T.show()"
   ]
  },
  {
   "cell_type": "code",
   "execution_count": null,
   "id": "32e2f500-2dbc-48ad-b734-3d03d8d42050",
   "metadata": {},
   "outputs": [],
   "source": [
    "#'Teljes N-csúcsú gráf:'\n",
    "C = graphs.CompleteGraph(8)\n",
    "C.show()"
   ]
  },
  {
   "cell_type": "code",
   "execution_count": null,
   "id": "3bdb44c1-3bf3-4fc9-b736-8cf4fe66cc76",
   "metadata": {},
   "outputs": [],
   "source": [
    "#'Útgráf'\n",
    "G = graphs.PathGraph(10)\n",
    "G.show()"
   ]
  },
  {
   "cell_type": "code",
   "execution_count": null,
   "id": "17659485-18d7-4fec-ac67-9f1262ca9d38",
   "metadata": {},
   "outputs": [],
   "source": [
    "#'Kör'\n",
    "P = digraphs.Circuit(6)\n",
    "P.show()"
   ]
  },
  {
   "cell_type": "markdown",
   "id": "88272ace-456b-4298-a86b-4821c58de340",
   "metadata": {},
   "source": [
    "**Gráfok feladatai**\n",
    "\n",
    "3. Feladat: Rajzolja ki a következő irányítatlan gráfot: 1: [0,1,2,5], 5: [2,3], 2: [3,0].\n",
    "4. Feladat: Rajzoljuk ki a következő gráfot: V = {1, 2, 3, 4}, élei pedig\n",
    "E = {(1,1), (1,2), (1,3), (2,1), (2,2), (2,3), (3,1), (3,2), (3,4), (4,3), (4,4)}.\n",
    "5. Írjunk egy függvényt, amely segítségével kirajzoljuk azt a gráfot, aminek a csúcsai 1 és N közötti egész számok, és élek azon csúcsok között vannak, amelyeknek összege prímszám!\n",
    "6. Készíts egy függvényt ami egy N természetes számot kap paraméterül és készít egy olyan gráfot aminek N csúcsa van,  és kettő csúcs között akkor van él ha egyik osztója a másiknak.\n",
    "7. Készíts egy függvény ami egy gráfot kap paraméterül és visszaadja a gráf komplementerét.\n"
   ]
  },
  {
   "cell_type": "code",
   "execution_count": null,
   "id": "a8faedfa-5d94-4e37-ac5e-b41440f88528",
   "metadata": {},
   "outputs": [],
   "source": []
  },
  {
   "cell_type": "code",
   "execution_count": null,
   "id": "dbb5524a-c9d3-4914-a666-49f16093e342",
   "metadata": {},
   "outputs": [],
   "source": []
  },
  {
   "cell_type": "code",
   "execution_count": null,
   "id": "33539d5f-e49e-4555-8274-47efd31697f6",
   "metadata": {},
   "outputs": [],
   "source": []
  },
  {
   "cell_type": "markdown",
   "id": "8e56c020-4d90-497d-b634-12d1732f32b5",
   "metadata": {},
   "source": [
    "*Lenáris algebra*"
   ]
  },
  {
   "cell_type": "code",
   "execution_count": null,
   "id": "ba553f6e-2a70-4dd9-8df6-26193db4b727",
   "metadata": {},
   "outputs": [],
   "source": [
    "M = matrix(4, 4)\n",
    "N  = matrix(4, 4, lambda i, j: i+j)\n",
    "M\n",
    "for i in range(4):\n",
    "    for j in range(4):\n",
    "        M[i,j] = i+j\n",
    "\n",
    "print(\"M = \" + str(M) +\", \\nN = \"+ str(N))\n",
    "\n",
    "v = vector([1,2,3,4])\n",
    "M*v\n",
    "v*M"
   ]
  },
  {
   "cell_type": "code",
   "execution_count": null,
   "id": "d22966c3-23e1-4e2c-a396-0f9ffecfbfa9",
   "metadata": {},
   "outputs": [],
   "source": [
    "v = vector([1, 2, 3])\n",
    "M = matrix([[4, 5, 6], [7, 8, 9], [10, 11, 12]])\n",
    "M, v"
   ]
  },
  {
   "cell_type": "code",
   "execution_count": null,
   "id": "eedf87ce-8d3e-4cb3-83f4-a779b5423fe0",
   "metadata": {},
   "outputs": [],
   "source": []
  },
  {
   "cell_type": "code",
   "execution_count": null,
   "id": "f3d7837b-91d6-4199-9095-6c71ff555315",
   "metadata": {},
   "outputs": [],
   "source": []
  },
  {
   "cell_type": "markdown",
   "id": "fb1c18a4-314d-4715-9117-32d08ed5ec5e",
   "metadata": {},
   "source": [
    "Beadandó feladat: Készíts egy task1 nevű függvényt, ami fogad egy egészeket tartalmazó listát.\n",
    "Minden páros negatív értéket szoroz kettővel, a többit osztja kettővel.\n",
    "Ezek után egy dictben megszámolja, hogy az így készült listában mely számból mennyi van.\n",
    "Ezen visszaadott dict kulcsa a szám, az értéke a számosság legyen. A feladat megoldását töltsd fel TMS-be '.sage' kiterjesztésű fileként. \n"
   ]
  },
  {
   "cell_type": "code",
   "execution_count": null,
   "id": "1cdf9d3b-7197-46a3-92c1-ddb98cbc641f",
   "metadata": {},
   "outputs": [],
   "source": [
    "def task1(list1):\n",
    "    pass"
   ]
  }
 ],
 "metadata": {
  "kernelspec": {
   "display_name": "SageMath 10.7",
   "language": "sage",
   "name": "sagemath-10.7"
  },
  "language_info": {
   "codemirror_mode": {
    "name": "ipython",
    "version": 3
   },
   "file_extension": ".py",
   "mimetype": "text/x-python",
   "name": "python",
   "nbconvert_exporter": "python",
   "pygments_lexer": "ipython3",
   "version": "3.13.3"
  }
 },
 "nbformat": 4,
 "nbformat_minor": 5
}
