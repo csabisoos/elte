{
 "cells": [
  {
   "cell_type": "code",
   "execution_count": 21,
   "id": "217fd554-7b44-4165-ae69-702c4be24e13",
   "metadata": {},
   "outputs": [],
   "source": [
    "def task1(list):\n",
    "    for idx in range(len(list)):\n",
    "        i = list[idx]\n",
    "        if i < 0 and i % 2 == 0:\n",
    "            list[idx] = i*2\n",
    "        else:\n",
    "            list[idx] = i/2\n",
    "\n",
    "    d = {}\n",
    "    for i in list:\n",
    "        if i in d:\n",
    "            d[i] += 1\n",
    "        else:\n",
    "            d[i] = 1\n",
    "    return d"
   ]
  }
 ],
 "metadata": {
  "kernelspec": {
   "display_name": "SageMath 10.7",
   "language": "sage",
   "name": "sagemath-10.7"
  },
  "language_info": {
   "codemirror_mode": {
    "name": "ipython",
    "version": 3
   },
   "file_extension": ".py",
   "mimetype": "text/x-python",
   "name": "python",
   "nbconvert_exporter": "python",
   "pygments_lexer": "ipython3",
   "version": "3.13.3"
  }
 },
 "nbformat": 4,
 "nbformat_minor": 5
}
