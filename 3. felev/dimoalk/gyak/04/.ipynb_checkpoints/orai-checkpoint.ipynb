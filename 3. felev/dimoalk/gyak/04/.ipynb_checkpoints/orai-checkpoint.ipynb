{
 "cells": [
  {
   "cell_type": "markdown",
   "id": "3269d72c-ac47-4aa9-81be-4d88de01af0e",
   "metadata": {},
   "source": [
    "# Maradékrendszerek"
   ]
  },
  {
   "cell_type": "markdown",
   "id": "e1d01ee7-57b9-4d61-9970-65c30ab77dd1",
   "metadata": {},
   "source": [
    "## Kongurencia"
   ]
  },
  {
   "cell_type": "markdown",
   "id": "9ae0fd51-1f5b-4a6b-9eef-ec9b0155690d",
   "metadata": {},
   "source": [
    "Írj függvényt, amely egy egész számról megadja, hogy mely maradékosztályhoz tartozik modulo $m$. Legyenek a reprenzentánsok a $0,1,..,m-1$ elemek."
   ]
  },
  {
   "cell_type": "code",
   "execution_count": 2,
   "id": "66275ec6-33b5-4f37-a1bb-a8dc61bb5bf2",
   "metadata": {},
   "outputs": [],
   "source": [
    "def find_class_representative(x, m):\n",
    "    return x % m\n",
    "\n",
    "assert find_class_representative(1,5) == 1\n",
    "assert find_class_representative(14,5) == 4\n",
    "assert find_class_representative(-1,5) == 4\n",
    "assert find_class_representative(-6,5) == 4\n",
    "assert find_class_representative(-10,5) == 0"
   ]
  },
  {
   "cell_type": "markdown",
   "id": "4a8fd928-a027-4bb2-aefe-ac3c0b9c5578",
   "metadata": {},
   "source": [
    "Írj függvényt, amely egy egész számokat tartalmazó lista elemeit osztályozza modulo $m$. A függvény egy `dictet` ad vissza, ahol a kulcsok a reprezentánsok $(0..m-1)$, az értékek a bele tartozó elemek listája a bemeneti listából."
   ]
  },
  {
   "cell_type": "code",
   "execution_count": 3,
   "id": "0544d0c4-4420-4f1a-a1b8-deb7325fbbc6",
   "metadata": {},
   "outputs": [],
   "source": [
    "def classify_elements(input_set, m):\n",
    "    classes = {}\n",
    "    for x in input_set:\n",
    "        r = x%m\n",
    "        if r not in classes:\n",
    "            classes[r] = []\n",
    "        classes[r].append(x)\n",
    "    return classes\n",
    "\n",
    "assert classify_elements([0, 1, 2, 3, 4, 5, 6, 7, 8], 2) == {0: [0, 2, 4, 6, 8], 1: [1, 3, 5, 7]}\n",
    "assert classify_elements([0, 1, 2, 3, 4, 5, 6, 7, 8], 3) == {0: [0, 3, 6], 1: [1, 4, 7], 2: [2, 5, 8]}\n",
    "assert classify_elements([0, 1, 2, 3, 4, 5, 6, 7, 8], 4) == {0: [0, 4, 8], 1: [1, 5], 2: [2, 6], 3: [3, 7]}\n",
    "assert classify_elements([0, 1, 2, 3, 4, 5, 6, 7, 8], 5) == {0: [0, 5], 1: [1, 6], 2: [2, 7], 3: [3, 8], 4: [4]}\n",
    "assert classify_elements([1, 7, 9, 10], 2) == {1: [1, 7, 9], 0: [10]}\n",
    "assert classify_elements([1, 7, 9, 10], 3) == {1: [1, 7, 10], 0: [9]}\n",
    "assert classify_elements([1, 7, 9, 10], 4) == {1: [1, 9], 3: [7], 2: [10]}\n",
    "assert classify_elements([1, 7, 9, 10], 5) == {1: [1], 2: [7], 4: [9], 0: [10]}\n",
    "assert classify_elements([-4, 6, -10, 12, -123], 2) == {0: [-4, 6, -10, 12], 1: [-123]}\n",
    "assert classify_elements([-4, 6, -10, 12, -123], 3) == {2: [-4, -10], 0: [6, 12, -123]}\n",
    "assert classify_elements([-4, 6, -10, 12, -123], 4) == {0: [-4, 12], 2: [6, -10], 1: [-123]}\n",
    "assert classify_elements([-4, 6, -10, 12, -123], 5) == {1: [-4, 6], 0: [-10], 2: [12, -123]}"
   ]
  },
  {
   "cell_type": "markdown",
   "id": "2426a0a0-c397-4583-9e27-2fd1b4e1805d",
   "metadata": {},
   "source": [
    "## Moduláris inverz"
   ]
  },
  {
   "cell_type": "markdown",
   "id": "2f592c6c-3fca-41e3-a023-0ae4e2bfcd86",
   "metadata": {},
   "source": [
    "Írj programot, amely kiszámolja első paraméterének moduláris inverzét modulo a második paraméter! Ellenőrzéshez használható az `inverse_mod` parancs."
   ]
  },
  {
   "cell_type": "code",
   "execution_count": 12,
   "id": "37a8674e-699d-4577-89a9-53ba4458d522",
   "metadata": {},
   "outputs": [
    {
     "name": "stdout",
     "output_type": "stream",
     "text": [
      "OK\n"
     ]
    }
   ],
   "source": [
    "def invmod(a,m):\n",
    "    for i in range(0, m):\n",
    "        if ((a*i)%m==1%m):\n",
    "            return i\n",
    "\n",
    "for _ in range(100):\n",
    "    import random\n",
    "    m = random.randint(3,100)\n",
    "    x = random.randint(2,m - 1)\n",
    "    solution = None\n",
    "    try:\n",
    "        solution = inverse_mod(x,m)\n",
    "    except ZeroDivisionError:\n",
    "        pass\n",
    "    mysolution = invmod(x,m)\n",
    "    if solution is not None:\n",
    "        solution = int(solution)\n",
    "\n",
    "    if mysolution is not None:\n",
    "        mysolution = int(mysolution)\n",
    "\n",
    "    assert mysolution == solution, f'{x} {m} -> {solution} = {mysolution}'\n",
    "\n",
    "print('OK')"
   ]
  },
  {
   "cell_type": "markdown",
   "id": "83f48274-e5be-49c5-bc67-9fb33a550006",
   "metadata": {},
   "source": [
    "## Lineáris kongurencia"
   ]
  },
  {
   "cell_type": "markdown",
   "id": "8e43c747-3e84-44ea-bacd-659784e68cbb",
   "metadata": {},
   "source": [
    "Írj eljárást lineáris kongruenciák megoldására! Ellenőrzéshez használható a `solve_mod` parancs."
   ]
  },
  {
   "cell_type": "code",
   "execution_count": 6,
   "id": "eca1f60a-f7ab-4168-9fcc-0fd3ba197ded",
   "metadata": {},
   "outputs": [
    {
     "name": "stdout",
     "output_type": "stream",
     "text": [
      "OK\n"
     ]
    }
   ],
   "source": [
    "def my_solve_mod(a,b,m):\n",
    "    g = math.gcd(a, m)\n",
    "    if b % g != 0:\n",
    "        return []  \n",
    "    \n",
    "    a //= g\n",
    "    b //= g\n",
    "    m //= g\n",
    "    \n",
    "    inv = invmod(a, m)\n",
    "    if inv is None:\n",
    "        return []\n",
    "    \n",
    "    x0 = (inv * b) % m\n",
    "    result = [(x0 + k * m) for k in range(g)]\n",
    "    return result\n",
    "\n",
    "def invmod(a, m):\n",
    "    for i in range(1, m):\n",
    "        if (a * i) % m == 1:\n",
    "            return i\n",
    "    return None  \n",
    "\n",
    "\n",
    "for _ in range(100):\n",
    "    import random \n",
    "    m = random.randint(2,100)\n",
    "    a = random.randint(1,m-1)\n",
    "    b = random.randint(0,m-1)\n",
    "    my_solution = Set([int(sol) for sol in my_solve_mod(a,b,m)])\n",
    "    var('x')\n",
    "    validating_solution = Set([int(sol[0]) for sol in solve_mod(a*x==b, m)])\n",
    "\n",
    "    assert (my_solution - validating_solution).is_empty(), f'a={a} b={b} m={m} {my_solution} {validating_solution}'\n",
    "\n",
    "print('OK')"
   ]
  },
  {
   "cell_type": "code",
   "execution_count": null,
   "id": "cb483375-5322-4d50-bf10-a7c35e72e8f0",
   "metadata": {},
   "outputs": [],
   "source": []
  }
 ],
 "metadata": {
  "kernelspec": {
   "display_name": "SageMath 10.7",
   "language": "sage",
   "name": "sagemath-10.7"
  },
  "language_info": {
   "codemirror_mode": {
    "name": "ipython",
    "version": 3
   },
   "file_extension": ".py",
   "mimetype": "text/x-python",
   "name": "python",
   "nbconvert_exporter": "python",
   "pygments_lexer": "ipython3",
   "version": "3.13.3"
  }
 },
 "nbformat": 4,
 "nbformat_minor": 5
}
