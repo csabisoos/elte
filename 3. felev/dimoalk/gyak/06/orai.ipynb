{
 "cells": [
  {
   "cell_type": "markdown",
   "id": "9d8a38e4-aea9-4e8b-b9df-3a0aaa41b5fe",
   "metadata": {},
   "source": [
    "# Diffie-Hellman"
   ]
  },
  {
   "cell_type": "markdown",
   "id": "656c35df-4aee-4f54-85d2-effa2d2489fc",
   "metadata": {},
   "source": [
    "## Kulcscsere"
   ]
  },
  {
   "cell_type": "markdown",
   "id": "0cc422f5-364e-412b-8a74-faae9872fd12",
   "metadata": {},
   "source": [
    "Írj programot, amely egy Diffie-Hellman kulcscsere folyamatát szemlélteti, $G = \\mathbb{Z}_p$ (p prím) választással."
   ]
  },
  {
   "cell_type": "code",
   "execution_count": 3,
   "id": "e9648579-cc54-4289-8176-8917539962d7",
   "metadata": {},
   "outputs": [],
   "source": [
    "from secrets import randbelow\n",
    "\n",
    "class DH_participant:\n",
    "    def __init__(self, p, g):\n",
    "        self.p = int(p)\n",
    "        self.g = int(g)\n",
    "        self._x = 2 + randbelow(self.p - 3)\n",
    "        self._pub = pow(self.g, self._x, self.p)\n",
    "\n",
    "    def get_pub(self):  # returns with the public parameter\n",
    "        return self._pub\n",
    "\n",
    "    def calculate_common_key(self, pub_of_other):\n",
    "        return pow(int(pub_of_other), self._x, self.p)\n",
    "        \n",
    "Alice = DH_participant(65537, 2)\n",
    "Bob   = DH_participant(65537, 2)\n",
    "assert Alice.calculate_common_key(Bob.get_pub()) == Bob.calculate_common_key(Alice.get_pub())"
   ]
  },
  {
   "cell_type": "markdown",
   "id": "0bb9a2ab-dcca-449d-b095-22fc603974df",
   "metadata": {},
   "source": [
    "# RSA (Rivest Shamir Adleman)"
   ]
  },
  {
   "cell_type": "markdown",
   "id": "cabaa1be-840d-4e98-ac37-fbf5a07ffdc5",
   "metadata": {},
   "source": [
    "Írj osztályt, amely adott publikus paraméterek esetén megvalósítja a titkosításra és hitelesítésre is használható RSA sémát!"
   ]
  },
  {
   "cell_type": "code",
   "execution_count": null,
   "id": "621fae74-435f-4479-9fde-5af473f16085",
   "metadata": {},
   "outputs": [],
   "source": [
    "class RSA(object):\n",
    "    def __init__(self, length):\n",
    "        # uniformly chosen prime is not a good idea in real life \n",
    "        p = random_prime(2^(length-2), lbound=2^(length-3))\n",
    "        q = random_prime(2^(length+2), lbound=2^(length+1))\n",
    "        self.__n = None # TODO\n",
    "        self.__phin = None #TODO\n",
    "        self.__e = 3 #should choose this more carefully\n",
    "        while gcd(self.__e, self.__phin) != 1:\n",
    "            self.__e += 2\n",
    "        self.__d = None # TODO\n",
    "    def public_key(self):\n",
    "        pass\n",
    "    @staticmethod\n",
    "    def encrypt(pubkey, message):\n",
    "        pass \n",
    "    def decrypt(self, secret):\n",
    "        pass\n",
    "    def sign(self, message):\n",
    "        pass\n",
    "    @staticmethod\n",
    "    def verify(pubkey, signed_message):\n",
    "        pass"
   ]
  },
  {
   "cell_type": "markdown",
   "id": "7fccc494-aa04-49ad-8e30-3fe5ed13d379",
   "metadata": {},
   "source": [
    "## RSA probléma és biztonsás"
   ]
  },
  {
   "cell_type": "markdown",
   "id": "c2386a48-a29c-45dd-92e0-9613efd0255c",
   "metadata": {},
   "source": [
    "Írj programot, amely a Factor parancs segítségével próbálja megoldani az RSA problémát!"
   ]
  },
  {
   "cell_type": "code",
   "execution_count": null,
   "id": "6a5f5c7c-0e41-48f6-9868-e35b292b3b0a",
   "metadata": {},
   "outputs": [],
   "source": []
  },
  {
   "cell_type": "markdown",
   "id": "e325f8df-7087-43ff-955c-c9a4879a25b6",
   "metadata": {},
   "source": [
    "Implementáld az `are_valid_rsa_parameters` függvényt, ami a $(p, q, d, e)$ számokról eldönti, hogy fel lehet-e használni őket RSA titkosítás paramétereiként! (Csak funkcionális szempontból és a tanult megszokott változó elnevezésekkel.)"
   ]
  },
  {
   "cell_type": "code",
   "execution_count": 10,
   "id": "c791c991-cfa1-4ac4-b65e-87f115c5c218",
   "metadata": {},
   "outputs": [
    {
     "name": "stdout",
     "output_type": "stream",
     "text": [
      "OK!\n"
     ]
    }
   ],
   "source": [
    "def are_valid_rsa_parameters(p, q, d, e):\n",
    "    if (not (p.is_prime() and q.is_prime and p!=q)):\n",
    "        return False\n",
    "    phi=(p-1)*(q-1)\n",
    "    \n",
    "    if not (2<e<phi):\n",
    "        return False\n",
    "        \n",
    "    if gcd(e, phi) != 1:\n",
    "        return False\n",
    "        \n",
    "    if (d*e)%phi != 1:\n",
    "        return False\n",
    "        \n",
    "    return True\n",
    "\n",
    "if __name__ == \"__main__\":\n",
    "  assert are_valid_rsa_parameters(854383, 911683, 559913054987, 519917050283)\n",
    "  assert not are_valid_rsa_parameters(853342, 11981, 3558587207, 3377232503)\n",
    "  assert not are_valid_rsa_parameters(291491, 717009, 16867459923, 11513965147)\n",
    "  assert not are_valid_rsa_parameters(955793, 955793, 727168494075, 193855182131)\n",
    "  assert not are_valid_rsa_parameters(898133, 222043, 1, 16153265069065)\n",
    "  assert not are_valid_rsa_parameters(758491, 882913, 553159763449, 130177488607)\n",
    "  print(\"OK!\")\n"
   ]
  },
  {
   "cell_type": "code",
   "execution_count": null,
   "id": "2f064924-2291-4b8a-a93a-ff62fcbc5004",
   "metadata": {},
   "outputs": [],
   "source": []
  }
 ],
 "metadata": {
  "kernelspec": {
   "display_name": "SageMath 10.7",
   "language": "sage",
   "name": "sagemath-10.7"
  },
  "language_info": {
   "codemirror_mode": {
    "name": "ipython",
    "version": 3
   },
   "file_extension": ".py",
   "mimetype": "text/x-python",
   "name": "python",
   "nbconvert_exporter": "python",
   "pygments_lexer": "ipython3",
   "version": "3.13.3"
  }
 },
 "nbformat": 4,
 "nbformat_minor": 5
}
