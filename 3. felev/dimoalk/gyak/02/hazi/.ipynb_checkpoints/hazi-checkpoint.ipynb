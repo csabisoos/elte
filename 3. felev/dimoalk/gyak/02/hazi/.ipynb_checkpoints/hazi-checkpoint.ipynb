{
 "cells": [
  {
   "cell_type": "code",
   "execution_count": 56,
   "id": "eb10e331-9ddc-4bec-a20d-a2a116f8bb78",
   "metadata": {},
   "outputs": [],
   "source": [
    "def divides_mod_n(a, b, n):\n",
    "    if n <= 1:\n",
    "        return False\n",
    "    if b >= n:\n",
    "        return False\n",
    "    a_mod = a % n\n",
    "    for c in range(n):\n",
    "        if (a_mod * c) % n == b:\n",
    "            return True\n",
    "    return False\n",
    "\n",
    "def is_associated_mod_n(a, b, n):\n",
    "  return divides_mod_n(a, b, n) and divides_mod_n(b, a, n)\n",
    "\n",
    "def is_unit_mod_n(a, n):\n",
    "    a = a%n\n",
    "    for b in range(n):\n",
    "        if (a*b)%n == 1:\n",
    "            return True\n",
    "    return False\n",
    "\n",
    "def is_irreducible_mod_n(a, n):\n",
    "    if a==0 or is_unit_mod_n(a, n):\n",
    "        return False\n",
    "\n",
    "    for b in range(1, n):\n",
    "        for c in range(1, n):\n",
    "            if (b*c)%n == a%n:\n",
    "                if not is_unit_mod_n(b, n) and not is_unit_mod_n(c, n):\n",
    "                    return False\n",
    "    return True \n",
    "\n",
    "def is_prime_mod_n(p, n):\n",
    "    if n <= 1:\n",
    "        return False\n",
    "    p_mod = p % n\n",
    "    if p_mod == 0 or is_unit_mod_n(p_mod, n):\n",
    "        return False\n",
    "\n",
    "    for a in range(n):\n",
    "        for b in range(n):\n",
    "            prod = (a * b) % n \n",
    "            if divides_mod_n(p_mod, prod, n):\n",
    "                if (not divides_mod_n(p_mod, a, n) and not divides_mod_n(p_mod, b, n)):\n",
    "                    return False\n",
    "    return True"
   ]
  }
 ],
 "metadata": {
  "kernelspec": {
   "display_name": "SageMath 10.7",
   "language": "sage",
   "name": "sagemath-10.7"
  },
  "language_info": {
   "codemirror_mode": {
    "name": "ipython",
    "version": 3
   },
   "file_extension": ".py",
   "mimetype": "text/x-python",
   "name": "python",
   "nbconvert_exporter": "python",
   "pygments_lexer": "ipython3",
   "version": "3.13.3"
  }
 },
 "nbformat": 4,
 "nbformat_minor": 5
}
