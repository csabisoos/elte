{
 "cells": [
  {
   "cell_type": "markdown",
   "id": "6f1006aa-04ee-41e9-b86f-673d20cb1731",
   "metadata": {},
   "source": [
    "# Oszthatóság"
   ]
  },
  {
   "cell_type": "markdown",
   "id": "bf1b7407-31f5-44ce-b6bd-5bb99ec20795",
   "metadata": {},
   "source": [
    "## Osztó"
   ]
  },
  {
   "cell_type": "code",
   "execution_count": 32,
   "id": "6c9f0e7f-94ea-4ba5-a3a7-94a77b8224d4",
   "metadata": {},
   "outputs": [
    {
     "name": "stdout",
     "output_type": "stream",
     "text": [
      "Division (result is rational)       a/b  =  21/10\n",
      "Floor division (result is integer): a//b =  2\n",
      "Remainder:                          a%b  =  1\n",
      "Quotient and remainder:             a.quo_rem(b)          ->  (2, 1)\n",
      "Whether one number divides another: a.divides(b)          ->  False\n",
      "Divisors:                           a.divisors()          ->  [1, 3, 7, 21]\n",
      "Number of divisors:                 number_of_divisors(a) ->  4\n",
      "                                    sigma(a,0)            ->  4\n",
      "Sum of divisors:                    sigma(a,1)            ->  32\n",
      "Factorization:                      a.factor()            ->  3 * 7\n"
     ]
    }
   ],
   "source": [
    "a = 21\n",
    "b = 10\n",
    "print(\"Division (result is rational)       a/b  = \", a/b)\n",
    "print(\"Floor division (result is integer): a//b = \", a//b)\n",
    "print(\"Remainder:                          a%b  = \", a%b)\n",
    "\n",
    "print(\"Quotient and remainder:             a.quo_rem(b)          -> \", a.quo_rem(b))\n",
    "print(\"Whether one number divides another: a.divides(b)          -> \", a.divides(b))\n",
    "print(\"Divisors:                           a.divisors()          -> \", a.divisors())\n",
    "print(\"Number of divisors:                 number_of_divisors(a) -> \", number_of_divisors(a))\n",
    "print(\"                                    sigma(a,0)            -> \", sigma(a,0))\n",
    "print(\"Sum of divisors:                    sigma(a,1)            -> \", sigma(a,1))\n",
    "print(\"Factorization:                      a.factor()            -> \", a.factor())"
   ]
  },
  {
   "cell_type": "code",
   "execution_count": 15,
   "id": "182cd8f8-6ac3-428e-a2e0-500e20e7013f",
   "metadata": {},
   "outputs": [
    {
     "name": "stdout",
     "output_type": "stream",
     "text": [
      "2|5:  False\n",
      "3|6:  True\n",
      "OK!\n"
     ]
    }
   ],
   "source": [
    "def divides0(a,b):\n",
    "    fa = {e[0]:e[1] for e in factor(a)}\n",
    "    fb = [e for e in factor(b)]\n",
    "    c = len(fb)\n",
    "    for bd in fb:\n",
    "        if bd[0] in fa.keys() and bd[1] <= fa[bd[0]]:\n",
    "            c -=1\n",
    "        else:\n",
    "            break\n",
    "    return c == 0\n",
    "\n",
    "def divides1(a, b):\n",
    "    c=1\n",
    "    while abs(b*c)<a:\n",
    "        c+=1\n",
    "    return abs(b*c) == a\n",
    "\n",
    "def divides2(a,b):\n",
    "    return b in a.divisors()\n",
    "\n",
    "def divides3(a,b):\n",
    "    return b.divides(a)\n",
    "\n",
    "def divides4(a,b):\n",
    "    return a%b==0\n",
    "    \n",
    "def divides5(a,b):\n",
    "    return (a/b).is_integer()\n",
    "\n",
    "print(\"2|5: \", divides0(5,2))\n",
    "print(\"3|6: \", divides0(6,3))\n",
    "\n",
    "assert divides0(18, 3) == True\n",
    "assert divides0(12, 12) == True\n",
    "assert divides0(1, 16) == False\n",
    "assert divides0(16, 2) == True\n",
    "assert divides0(6, 3) == True\n",
    "assert divides0(18, 13) == False\n",
    "assert divides0(15, 16) == False\n",
    "assert divides0(12, 18) == False\n",
    "assert divides0(4, 18) == False\n",
    "assert divides0(12, 3) == True\n",
    "print(\"OK!\")"
   ]
  },
  {
   "cell_type": "markdown",
   "id": "c8693cbe-4bae-4d73-b7be-4004d286c632",
   "metadata": {},
   "source": [
    "# Hasse-diagram"
   ]
  },
  {
   "cell_type": "code",
   "execution_count": 31,
   "id": "6784f2ea-ed4d-4fb0-9b8f-cb03e4117058",
   "metadata": {},
   "outputs": [
    {
     "data": {
      "application/vnd.jupyter.widget-view+json": {
       "model_id": "69384a45dcef492ca684adc8f8a48dbc",
       "version_major": 2,
       "version_minor": 0
      },
      "text/plain": [
       "Interactive function <function _ at 0x11cec7420> with 1 widget\n",
       "  k: TransformIntSlider(value=16, description='k', max=50, min=1)"
      ]
     },
     "metadata": {},
     "output_type": "display_data"
    }
   ],
   "source": [
    "@interact\n",
    "def _(k=slider(1, 50, step_size=1, default=16)):\n",
    "    Poset((Set([1..k]), lambda a,b: b % a == 0)).show(talk=True, figsize=10)"
   ]
  },
  {
   "cell_type": "code",
   "execution_count": 28,
   "id": "e9feaeb8-beb6-4f93-9c81-ce855e2a909c",
   "metadata": {},
   "outputs": [
    {
     "name": "stdout",
     "output_type": "stream",
     "text": [
      "OK!\n"
     ]
    }
   ],
   "source": [
    "def count_hasse_edges(k):\n",
    "    P = Poset((Set([2..k]), lambda a,b: b % a == 0)) #parameters set, relation as a lambda function\n",
    "    return len(P.cover_relations_graph().edges())\n",
    "\n",
    "assert count_hasse_edges(3) == 0\n",
    "assert count_hasse_edges(4) == 1\n",
    "assert count_hasse_edges(5) == 1\n",
    "assert count_hasse_edges(6) == 3\n",
    "assert count_hasse_edges(7) == 3\n",
    "assert count_hasse_edges(8) == 4\n",
    "assert count_hasse_edges(10) == 7\n",
    "assert count_hasse_edges(20) == 18\n",
    "assert count_hasse_edges(50) == 62\n",
    "assert count_hasse_edges(100) == 146\n",
    "print(\"OK!\")"
   ]
  },
  {
   "cell_type": "code",
   "execution_count": 39,
   "id": "c7d1aea8-f34c-4260-af2b-e735b095ba50",
   "metadata": {},
   "outputs": [
    {
     "name": "stdout",
     "output_type": "stream",
     "text": [
      "Ok\n"
     ]
    }
   ],
   "source": [
    "def num_of_divisors(a):\n",
    "    r,c = 0,1\n",
    "    while c^2 < a:\n",
    "        if a % c == 0:\n",
    "            r += 2\n",
    "        c += 1\n",
    "    return r + (c^2 == a)\n",
    "    \n",
    "def num_of_divisors0(a):\n",
    "    return len(divisors(a))\n",
    "    \n",
    "def sum_of_divisors(a):\n",
    "    r,c = 0,1\n",
    "    while c^2 < a:\n",
    "        if a % c == 0:\n",
    "            r += c + (a//c)\n",
    "        c += 1\n",
    "    if c^2 == a:\n",
    "        r += c\n",
    "    return r\n",
    "    \n",
    "def sum_of_divisors0(a):\n",
    "    return sum(divisors(a))\n",
    "\n",
    "#test\n",
    "try:\n",
    "    for tc in range(2,100):\n",
    "        assert num_of_divisors(tc) == sigma(tc,0)\n",
    "        assert sum_of_divisors(tc) == sigma(tc,1)\n",
    "except AssertionError:\n",
    "    print(\"Test failed for \", tc)\n",
    "else:\n",
    "    print(\"Ok\")"
   ]
  },
  {
   "cell_type": "markdown",
   "id": "8f0eb4a1-b162-41b5-9ed4-df3588735cfa",
   "metadata": {},
   "source": [
    "## Eratoszthenész szitája"
   ]
  },
  {
   "cell_type": "code",
   "execution_count": 46,
   "id": "485b7ada-7bfe-46d6-b316-fbf345931805",
   "metadata": {},
   "outputs": [
    {
     "data": {
      "text/plain": [
       "Animation with 28 frames"
      ]
     },
     "metadata": {},
     "output_type": "display_data"
    }
   ],
   "source": [
    "def psieve(n,r):\n",
    "    M = matrix.ones(r, (n-1)//r)\n",
    "    M[0,0], p = 2, 2\n",
    "    N = add([text(str(i), ((i-2)%r, (i-2)//r), color='black', fontsize='large', fontweight='bold') for i in range(2,n+1)])\n",
    "    PL = [ N + matrix_plot(M, cmap=['white', 'green'])]\n",
    "    while p <= sqrt(n):\n",
    "        for v in range(2*p, n+1, p):\n",
    "            M[(v-2)//r, (v-2)%r] = 0\n",
    "            PL.append(N + matrix_plot(M, cmap=['red', 'white', 'green']))\n",
    "        p += 1\n",
    "        while not M[(p-2)//r, (p-2)%r]:\n",
    "            p += 1\n",
    "        M[(p-2)//r, (p-2)%r] = 2\n",
    "        PL.append(N + matrix_plot(M, cmap=['red', 'white', 'green']))\n",
    "    for i in range(M.nrows()):\n",
    "        for j in range(M.ncols()):\n",
    "            if M[i,j]:\n",
    "                M[i,j] = 2\n",
    "    PL.append(N + matrix_plot(M, cmap=['red', 'white', 'green']))\n",
    "    animate(PL, frame=False).show()\n",
    "\n",
    "psieve(26,5)"
   ]
  },
  {
   "cell_type": "code",
   "execution_count": null,
   "id": "ba03838e-5dae-4186-bfc0-b81eea205133",
   "metadata": {},
   "outputs": [],
   "source": []
  }
 ],
 "metadata": {
  "kernelspec": {
   "display_name": "SageMath 10.7",
   "language": "sage",
   "name": "sagemath-10.7"
  },
  "language_info": {
   "codemirror_mode": {
    "name": "ipython",
    "version": 3
   },
   "file_extension": ".py",
   "mimetype": "text/x-python",
   "name": "python",
   "nbconvert_exporter": "python",
   "pygments_lexer": "ipython3",
   "version": "3.13.3"
  }
 },
 "nbformat": 4,
 "nbformat_minor": 5
}
