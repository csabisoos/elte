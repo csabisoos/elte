{
 "cells": [
  {
   "cell_type": "markdown",
   "id": "9d6424f8-b7c3-4c9e-beb6-c3505d2cb951",
   "metadata": {},
   "source": [
    "# Legnagyobb közös osztó"
   ]
  },
  {
   "cell_type": "markdown",
   "id": "cd1059f9-4a5b-44ab-b7ee-36ec0a6d203a",
   "metadata": {},
   "source": [
    "## Legnagyobb közös osztó"
   ]
  },
  {
   "cell_type": "markdown",
   "id": "a9670631-cf8e-430e-8f2a-cf75adde35bf",
   "metadata": {},
   "source": [
    "Írj programot, amely adott egész számokra kiszámolja a legnagyobb közös osztót a `factor` parancs segítségével!"
   ]
  },
  {
   "cell_type": "code",
   "execution_count": 56,
   "id": "4e42f9ea-3fae-41f3-93dc-ae4dbe96feca",
   "metadata": {},
   "outputs": [
    {
     "name": "stdout",
     "output_type": "stream",
     "text": [
      "OK!\n"
     ]
    }
   ],
   "source": [
    "def greatest_common_divisor(a, b=None):\n",
    "    if b is None:\n",
    "        lko = gcd_tuple([t for t in factor(a[0])], [t for t in factor(a[1])])\n",
    "        for x in range(2, len(a)):\n",
    "            lko = gcd_tuple([t for t in factor(lko)], [t for t in factor(x)])\n",
    "    else:\n",
    "        lko = gcd_tuple([t for t in factor(a)], [t for t in factor(b)])\n",
    "\n",
    "    return lko\n",
    "            \n",
    "\n",
    "def gcd_tuple(a, b):\n",
    "    lko = 1\n",
    "    da = dict(a)\n",
    "    db = dict(b)\n",
    "    for x in da:\n",
    "        if x in db:\n",
    "           lko*=x^min(da[x], db[x])\n",
    "    return lko\n",
    "            \n",
    "        \n",
    "\n",
    "for a in [1..20]:\n",
    "    for b in [1..20]:\n",
    "        assert greatest_common_divisor(a, b) == gcd(a, b)\n",
    "        assert greatest_common_divisor([a, b]) == gcd([a, b])\n",
    "\n",
    "for n in [1..20]:\n",
    "    ls = [ randint(1, 1000000) for _ in [1..100] ]\n",
    "    assert greatest_common_divisor(ls) == gcd(ls)\n",
    "\n",
    "print(\"OK!\")"
   ]
  }
 ],
 "metadata": {
  "kernelspec": {
   "display_name": "SageMath 10.7",
   "language": "sage",
   "name": "sagemath-10.7"
  },
  "language_info": {
   "codemirror_mode": {
    "name": "ipython",
    "version": 3
   },
   "file_extension": ".py",
   "mimetype": "text/x-python",
   "name": "python",
   "nbconvert_exporter": "python",
   "pygments_lexer": "ipython3",
   "version": "3.13.3"
  }
 },
 "nbformat": 4,
 "nbformat_minor": 5
}
